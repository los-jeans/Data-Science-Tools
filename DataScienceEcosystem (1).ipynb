{
 "cells": [
  {
   "cell_type": "markdown",
   "id": "eddec94d-45e0-4557-affc-47c26e5fa538",
   "metadata": {
    "tags": []
   },
   "source": [
    "# Data Science Tools and Ecosystem"
   ]
  },
  {
   "cell_type": "markdown",
   "id": "e4c61607-7ff7-4036-9b63-42a413a3b06e",
   "metadata": {},
   "source": [
    "In this notebook, Data Science Tools and Ecosystem are summarized."
   ]
  },
  {
   "cell_type": "markdown",
   "id": "817226be-c9b6-4423-b6d7-99aad68a235f",
   "metadata": {},
   "source": [
    "**Objectives:**\n",
    "- List popoular data science languages\n",
    "- List common data science libraries\n",
    "- List popular data science tools"
   ]
  },
  {
   "cell_type": "markdown",
   "id": "a117947b-ee13-4949-a957-fa57ad739bb2",
   "metadata": {},
   "source": [
    "Some of the most popular data science languages include the following:\n",
    "\n",
    "1) Python\n",
    "2) R\n",
    "3) SQL"
   ]
  },
  {
   "cell_type": "markdown",
   "id": "e9007526-abbf-4ea3-8d8d-7b20f308aead",
   "metadata": {
    "tags": []
   },
   "source": [
    "Here are some common data science libraries:\n",
    " 1) Pandas\n",
    " 2) Numpy\n",
    " 3) Matplotlib"
   ]
  },
  {
   "cell_type": "markdown",
   "id": "d44fd9c3-3a30-4900-a4a4-2c22135c26d0",
   "metadata": {
    "tags": []
   },
   "source": [
    "|Data Science Tools|\n",
    "------------------\n",
    "|TensorFlow|\n",
    "|RStudio|\n",
    "|MySQL|"
   ]
  },
  {
   "cell_type": "markdown",
   "id": "dabd2612-b425-4422-839d-9e20443dc54c",
   "metadata": {},
   "source": [
    "### Below are a few examples of evaluating arithmetic expressions in Python"
   ]
  },
  {
   "cell_type": "code",
   "execution_count": null,
   "id": "5a4c186e-5589-4a0d-b194-48a58100d016",
   "metadata": {},
   "outputs": [],
   "source": []
  },
  {
   "cell_type": "code",
   "execution_count": 2,
   "id": "e396b45d-b470-4db3-8ec3-21c832040a91",
   "metadata": {
    "tags": []
   },
   "outputs": [
    {
     "data": {
      "text/plain": [
       "17"
      ]
     },
     "execution_count": 2,
     "metadata": {},
     "output_type": "execute_result"
    }
   ],
   "source": [
    "# This is a simple arithmetic expession to mulitply and then add integers\n",
    "\n",
    "(3*4)+5"
   ]
  },
  {
   "cell_type": "code",
   "execution_count": 3,
   "id": "07693eed-062d-4f30-9f62-2bdf820c04c4",
   "metadata": {
    "tags": []
   },
   "outputs": [
    {
     "data": {
      "text/plain": [
       "3.3333333333333335"
      ]
     },
     "execution_count": 3,
     "metadata": {},
     "output_type": "execute_result"
    }
   ],
   "source": [
    "# This will convert 200 minutes to hours by dividing by 60\n",
    "\n",
    "200/60\n"
   ]
  },
  {
   "cell_type": "markdown",
   "id": "c011c14c-61f7-4baf-85f5-737fd8e90dbc",
   "metadata": {},
   "source": [
    "## Author\n",
    "Hannah P"
   ]
  }
 ],
 "metadata": {
  "kernelspec": {
   "display_name": "Python",
   "language": "python",
   "name": "conda-env-python-py"
  },
  "language_info": {
   "codemirror_mode": {
    "name": "ipython",
    "version": 3
   },
   "file_extension": ".py",
   "mimetype": "text/x-python",
   "name": "python",
   "nbconvert_exporter": "python",
   "pygments_lexer": "ipython3",
   "version": "3.7.12"
  }
 },
 "nbformat": 4,
 "nbformat_minor": 5
}
